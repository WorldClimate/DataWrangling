{
 "cells": [
  {
   "cell_type": "code",
   "execution_count": 1,
   "metadata": {},
   "outputs": [
    {
     "name": "stdout",
     "output_type": "stream",
     "text": [
      "16224\n"
     ]
    }
   ],
   "source": [
    "import pandas as pd\n",
    "\n",
    "city_name = input(\"What is the City?\")\n",
    "input_file = city_name+'/Raw/historical_daily_raw.csv'\n",
    "\n",
    "#Import raw file\n",
    "df = pd.read_csv(input_file)\n",
    "print(len(df.index))"
   ]
  },
  {
   "cell_type": "code",
   "execution_count": 2,
   "metadata": {},
   "outputs": [
    {
     "name": "stderr",
     "output_type": "stream",
     "text": [
      "/var/folders/2m/s5dls335695361g_hk_1ckb80000gn/T/ipykernel_60136/1799204036.py:4: SettingWithCopyWarning: \n",
      "A value is trying to be set on a copy of a slice from a DataFrame.\n",
      "Try using .loc[row_indexer,col_indexer] = value instead\n",
      "\n",
      "See the caveats in the documentation: https://pandas.pydata.org/pandas-docs/stable/user_guide/indexing.html#returning-a-view-versus-a-copy\n",
      "  max_temp_df['datetime'] = pd.to_datetime(max_temp_df['datetime'])\n"
     ]
    },
    {
     "ename": "AttributeError",
     "evalue": "'SeriesGroupBy' object has no attribute 'map'",
     "output_type": "error",
     "traceback": [
      "\u001b[0;31m---------------------------------------------------------------------------\u001b[0m",
      "\u001b[0;31mAttributeError\u001b[0m                            Traceback (most recent call last)",
      "Cell \u001b[0;32mIn[2], line 16\u001b[0m\n\u001b[1;32m      5\u001b[0m max_temp_df \u001b[38;5;241m=\u001b[39m max_temp_df\u001b[38;5;241m.\u001b[39mgroupby([pd\u001b[38;5;241m.\u001b[39mGrouper(key\u001b[38;5;241m=\u001b[39m\u001b[38;5;124m'\u001b[39m\u001b[38;5;124mdatetime\u001b[39m\u001b[38;5;124m'\u001b[39m, freq\u001b[38;5;241m=\u001b[39m\u001b[38;5;124m'\u001b[39m\u001b[38;5;124m1YE\u001b[39m\u001b[38;5;124m'\u001b[39m)], as_index\u001b[38;5;241m=\u001b[39m\u001b[38;5;28;01mFalse\u001b[39;00m)\n\u001b[1;32m      6\u001b[0m \u001b[38;5;66;03m# historical_df['tempmax'].groupby([historical_df['datetime'].dt.year]).count()\u001b[39;00m\n\u001b[1;32m      7\u001b[0m \u001b[38;5;66;03m# Group based on frequency\u001b[39;00m\n\u001b[1;32m      8\u001b[0m \u001b[38;5;66;03m# if(frequency == 'monthly'):\u001b[39;00m\n\u001b[0;32m   (...)\u001b[0m\n\u001b[1;32m     14\u001b[0m \n\u001b[1;32m     15\u001b[0m \u001b[38;5;66;03m#convert farenheit to celsius\u001b[39;00m\n\u001b[0;32m---> 16\u001b[0m max_temp_df[data_value] \u001b[38;5;241m=\u001b[39m \u001b[43mmax_temp_df\u001b[49m\u001b[43m[\u001b[49m\u001b[43mdata_value\u001b[49m\u001b[43m]\u001b[49m\u001b[38;5;241;43m.\u001b[39;49m\u001b[43mmap\u001b[49m(\u001b[38;5;28;01mlambda\u001b[39;00m a: (a\u001b[38;5;241m-\u001b[39m\u001b[38;5;241m32\u001b[39m) \u001b[38;5;241m*\u001b[39m \u001b[38;5;241m5\u001b[39m\u001b[38;5;241m/\u001b[39m\u001b[38;5;241m9\u001b[39m)\n\u001b[1;32m     18\u001b[0m \u001b[38;5;66;03m# Calculate moving average for maxtemp\u001b[39;00m\n\u001b[1;32m     19\u001b[0m max_temp_df\u001b[38;5;241m.\u001b[39mplot(x\u001b[38;5;241m=\u001b[39m\u001b[38;5;124m'\u001b[39m\u001b[38;5;124mdatetime\u001b[39m\u001b[38;5;124m'\u001b[39m, y\u001b[38;5;241m=\u001b[39mdata_value) \n",
      "File \u001b[0;32m~/Library/Python/3.9/lib/python/site-packages/pandas/core/groupby/groupby.py:1363\u001b[0m, in \u001b[0;36mGroupBy.__getattr__\u001b[0;34m(self, attr)\u001b[0m\n\u001b[1;32m   1360\u001b[0m \u001b[38;5;28;01mif\u001b[39;00m attr \u001b[38;5;129;01min\u001b[39;00m \u001b[38;5;28mself\u001b[39m\u001b[38;5;241m.\u001b[39mobj:\n\u001b[1;32m   1361\u001b[0m     \u001b[38;5;28;01mreturn\u001b[39;00m \u001b[38;5;28mself\u001b[39m[attr]\n\u001b[0;32m-> 1363\u001b[0m \u001b[38;5;28;01mraise\u001b[39;00m \u001b[38;5;167;01mAttributeError\u001b[39;00m(\n\u001b[1;32m   1364\u001b[0m     \u001b[38;5;124mf\u001b[39m\u001b[38;5;124m\"\u001b[39m\u001b[38;5;124m'\u001b[39m\u001b[38;5;132;01m{\u001b[39;00m\u001b[38;5;28mtype\u001b[39m(\u001b[38;5;28mself\u001b[39m)\u001b[38;5;241m.\u001b[39m\u001b[38;5;18m__name__\u001b[39m\u001b[38;5;132;01m}\u001b[39;00m\u001b[38;5;124m'\u001b[39m\u001b[38;5;124m object has no attribute \u001b[39m\u001b[38;5;124m'\u001b[39m\u001b[38;5;132;01m{\u001b[39;00mattr\u001b[38;5;132;01m}\u001b[39;00m\u001b[38;5;124m'\u001b[39m\u001b[38;5;124m\"\u001b[39m\n\u001b[1;32m   1365\u001b[0m )\n",
      "\u001b[0;31mAttributeError\u001b[0m: 'SeriesGroupBy' object has no attribute 'map'"
     ]
    }
   ],
   "source": [
    "data_value = 'precip'\n",
    "frequency = 'monthly'\n",
    "max_temp_df = df[['datetime',data_value]]\n",
    "max_temp_df['datetime'] = pd.to_datetime(max_temp_df['datetime'])\n",
    "max_temp_df = max_temp_df.groupby([pd.Grouper(key='datetime', freq='1YE')], as_index=False)\n",
    "# historical_df['tempmax'].groupby([historical_df['datetime'].dt.year]).count()\n",
    "# Group based on frequency\n",
    "# if(frequency == 'monthly'):\n",
    "#     max_temp_df = max_temp_df.groupby([pd.Grouper(key='datetime', freq='1M')]).max()\n",
    "# elif(frequency == 'weekly'):\n",
    "#     max_temp_df = max_temp_df.groupby([pd.Grouper(key='datetime', freq='1W')]).max()\n",
    "# else:\n",
    "#     max_temp_df = max_temp_df.groupby([pd.Grouper(key='datetime', freq='1D')]).max()\n",
    "\n",
    "#convert farenheit to celsius\n",
    "max_temp_df[data_value] = max_temp_df[data_value].map(lambda a: (a-32) * 5/9)\n",
    "\n",
    "# Calculate moving average for maxtemp\n",
    "max_temp_df.plot(x='datetime', y=data_value) \n",
    "\n",
    "# max_temp_df['moving_avg'] = max_temp_df[data_value].rolling(3).mean()\n",
    "print(max_temp_df.head(20))\n",
    "\n",
    "max_temp_df.plot.line(x='datetime', y='moving_avg') \n",
    "max_temp_df.plot.line(x='datetime', y='tempmin') \n"
   ]
  },
  {
   "cell_type": "code",
   "execution_count": null,
   "metadata": {},
   "outputs": [],
   "source": [
    "\n",
    "# if(type == 'json'):\n",
    "#     max_temp_df.to_json(output_location+'.json', orient='table')\n",
    "# elif(type == 'csv'):\n",
    "#     max_temp_df.to_csv(output_location+'.csv')\n",
    "# elif(type == 'both'):\n",
    "#     max_temp_df.to_json(output_location+'.json', orient='table')\n",
    "#     max_temp_df.to_csv(output_location+'.csv')"
   ]
  }
 ],
 "metadata": {
  "kernelspec": {
   "display_name": "Python 3",
   "language": "python",
   "name": "python3"
  },
  "language_info": {
   "codemirror_mode": {
    "name": "ipython",
    "version": 3
   },
   "file_extension": ".py",
   "mimetype": "text/x-python",
   "name": "python",
   "nbconvert_exporter": "python",
   "pygments_lexer": "ipython3",
   "version": "3.9.6"
  }
 },
 "nbformat": 4,
 "nbformat_minor": 2
}
