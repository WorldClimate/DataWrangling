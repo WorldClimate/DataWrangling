{
 "cells": [
  {
   "cell_type": "code",
   "execution_count": 7,
   "metadata": {},
   "outputs": [
    {
     "name": "stdout",
     "output_type": "stream",
     "text": [
      "16224\n"
     ]
    }
   ],
   "source": [
    "import pandas as pd\n",
    "\n",
    "city_name = input(\"What is the City?\")\n",
    "data_value = input(\"What is the data value you are looking to extract?\")\n",
    "frequency = input(\"What frequency would you like? (daily, weekly, monthly, yearly\")\n",
    "input_file = city_name+'/Raw/'+city_name+'_historical_daily_raw.csv'\n",
    "output_location = city_name+'/Processed/historical_'+data_value+'_'+frequency\n",
    "type = input(\"json, csv or both?\")\n",
    "\n",
    "#Import raw file\n",
    "df = pd.read_csv(input_file)\n",
    "print(len(df.index))"
   ]
  },
  {
   "cell_type": "code",
   "execution_count": 8,
   "metadata": {},
   "outputs": [
    {
     "name": "stdout",
     "output_type": "stream",
     "text": [
      "              tempmax\n",
      "datetime             \n",
      "2024-01-21  34.611111\n",
      "2024-01-28  34.500000\n",
      "2024-02-04  34.000000\n",
      "2024-02-11  33.055556\n",
      "2024-02-18  32.000000\n",
      "2024-02-25  35.000000\n",
      "2024-03-03  32.000000\n",
      "2024-03-10  34.722222\n",
      "2024-03-17  31.055556\n",
      "2024-03-24  35.000000\n",
      "2024-03-31  34.000000\n",
      "2024-04-07  34.000000\n",
      "2024-04-14  34.722222\n",
      "2024-04-21  34.388889\n",
      "2024-04-28  34.111111\n",
      "2024-05-05  35.000000\n",
      "2024-05-12  36.500000\n",
      "2024-05-19  34.722222\n",
      "2024-05-26  34.055556\n",
      "2024-06-02  34.833333\n"
     ]
    },
    {
     "name": "stderr",
     "output_type": "stream",
     "text": [
      "/var/folders/2m/s5dls335695361g_hk_1ckb80000gn/T/ipykernel_6377/1833051836.py:2: SettingWithCopyWarning: \n",
      "A value is trying to be set on a copy of a slice from a DataFrame.\n",
      "Try using .loc[row_indexer,col_indexer] = value instead\n",
      "\n",
      "See the caveats in the documentation: https://pandas.pydata.org/pandas-docs/stable/user_guide/indexing.html#returning-a-view-versus-a-copy\n",
      "  max_temp_df['datetime'] = pd.to_datetime(max_temp_df['datetime'])\n"
     ]
    }
   ],
   "source": [
    "max_temp_df = df[['datetime',data_value]]\n",
    "max_temp_df['datetime'] = pd.to_datetime(max_temp_df['datetime'])\n",
    "# Group based on frequency\n",
    "if(frequency == 'monthly'):\n",
    "    max_temp_df = max_temp_df.groupby([pd.Grouper(key='datetime', freq='1M')]).max()\n",
    "elif(frequency == 'weekly'):\n",
    "    max_temp_df = max_temp_df.groupby([pd.Grouper(key='datetime', freq='1W')]).max()\n",
    "else:\n",
    "    max_temp_df = max_temp_df.groupby([pd.Grouper(key='datetime', freq='1D')]).max()\n",
    "    \n",
    "#convert farenheit to celsius\n",
    "max_temp_df[data_value] = max_temp_df[data_value].map(lambda a: (a-32) * 5/9)\n",
    "print(max_temp_df.tail(20))\n"
   ]
  },
  {
   "cell_type": "code",
   "execution_count": 9,
   "metadata": {},
   "outputs": [],
   "source": [
    "\n",
    "if(type == 'json'):\n",
    "    max_temp_df.to_json(output_location+'.json', orient='table')\n",
    "elif(type == 'csv'):\n",
    "    max_temp_df.to_csv(output_location+'.csv')\n",
    "elif(type == 'both'):\n",
    "    max_temp_df.to_json(output_location+'.json', orient='table')\n",
    "    max_temp_df.to_csv(output_location+'.csv')"
   ]
  }
 ],
 "metadata": {
  "kernelspec": {
   "display_name": "Python 3",
   "language": "python",
   "name": "python3"
  },
  "language_info": {
   "codemirror_mode": {
    "name": "ipython",
    "version": 3
   },
   "file_extension": ".py",
   "mimetype": "text/x-python",
   "name": "python",
   "nbconvert_exporter": "python",
   "pygments_lexer": "ipython3",
   "version": "3.9.6"
  }
 },
 "nbformat": 4,
 "nbformat_minor": 2
}
