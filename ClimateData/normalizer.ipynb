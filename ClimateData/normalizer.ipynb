{
 "cells": [
  {
   "cell_type": "code",
   "execution_count": 1,
   "metadata": {},
   "outputs": [],
   "source": [
    "## This takes a city as input, calculates the average max temp for the last X years and uses this as an offset to combine the current forecast with the historical data\n",
    "import pandas as pd\n",
    "\n",
    "city_name = input(\"What is the City?\")\n",
    "data_value = input(\"What is the data value you are looking to combine?\")\n",
    "input_file = city_name+'/Raw/'+city_name+'_historical_daily_raw.csv'\n",
    "df = pd.read_csv(input_file)"
   ]
  },
  {
   "cell_type": "code",
   "execution_count": 2,
   "metadata": {},
   "outputs": [
    {
     "name": "stdout",
     "output_type": "stream",
     "text": [
      "              tempmax\n",
      "datetime             \n",
      "2022-11-30  34.111111\n",
      "2022-12-31  34.000000\n",
      "2023-01-31  34.277778\n",
      "2023-02-28  33.055556\n",
      "2023-03-31  33.111111\n",
      "2023-04-30  34.555556\n",
      "2023-05-31  34.055556\n",
      "2023-06-30  34.388889\n",
      "2023-07-31  33.722222\n",
      "2023-08-31  34.388889\n",
      "2023-09-30  36.722222\n",
      "2023-10-31  37.722222\n",
      "2023-11-30  35.611111\n",
      "2023-12-31  36.388889\n",
      "2024-01-31  34.611111\n",
      "2024-02-29  35.000000\n",
      "2024-03-31  35.000000\n",
      "2024-04-30  35.000000\n",
      "2024-05-31  36.500000\n",
      "2024-06-30  33.000000\n"
     ]
    },
    {
     "name": "stderr",
     "output_type": "stream",
     "text": [
      "/var/folders/2m/s5dls335695361g_hk_1ckb80000gn/T/ipykernel_4258/3177844364.py:2: SettingWithCopyWarning: \n",
      "A value is trying to be set on a copy of a slice from a DataFrame.\n",
      "Try using .loc[row_indexer,col_indexer] = value instead\n",
      "\n",
      "See the caveats in the documentation: https://pandas.pydata.org/pandas-docs/stable/user_guide/indexing.html#returning-a-view-versus-a-copy\n",
      "  max_temp_df['datetime'] = pd.to_datetime(max_temp_df['datetime'])\n",
      "/var/folders/2m/s5dls335695361g_hk_1ckb80000gn/T/ipykernel_4258/3177844364.py:3: FutureWarning: 'M' is deprecated and will be removed in a future version, please use 'ME' instead.\n",
      "  max_temp_df = max_temp_df.groupby([pd.Grouper(key='datetime', freq='1M')]).max()\n"
     ]
    }
   ],
   "source": [
    "max_temp_df = df[['datetime',data_value]]\n",
    "max_temp_df['datetime'] = pd.to_datetime(max_temp_df['datetime'])\n",
    "max_temp_df = max_temp_df.groupby([pd.Grouper(key='datetime', freq='1M')]).max()\n",
    "\n",
    "#convert farenheit to celsius\n",
    "max_temp_df[data_value] = max_temp_df[data_value].map(lambda a: (a-32) * 5/9)\n",
    "print(max_temp_df.tail(20))"
   ]
  },
  {
   "cell_type": "code",
   "execution_count": 7,
   "metadata": {},
   "outputs": [
    {
     "name": "stdout",
     "output_type": "stream",
     "text": [
      "34.69675925925926\n",
      "test\n"
     ]
    }
   ],
   "source": [
    "## Calculate average max temp for the last 2 years\n",
    "average_historical_max_temp = max_temp_df.tail(24).mean()\n",
    "print(average_historical_max_temp.values[0])"
   ]
  },
  {
   "cell_type": "code",
   "execution_count": null,
   "metadata": {},
   "outputs": [],
   "source": []
  }
 ],
 "metadata": {
  "kernelspec": {
   "display_name": "Python 3",
   "language": "python",
   "name": "python3"
  },
  "language_info": {
   "codemirror_mode": {
    "name": "ipython",
    "version": 3
   },
   "file_extension": ".py",
   "mimetype": "text/x-python",
   "name": "python",
   "nbconvert_exporter": "python",
   "pygments_lexer": "ipython3",
   "version": "3.9.6"
  }
 },
 "nbformat": 4,
 "nbformat_minor": 2
}
