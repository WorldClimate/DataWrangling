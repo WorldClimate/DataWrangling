{
 "cells": [
  {
   "cell_type": "code",
   "execution_count": 8,
   "metadata": {},
   "outputs": [
    {
     "name": "stdout",
     "output_type": "stream",
     "text": [
      "1604\n"
     ]
    }
   ],
   "source": [
    "import pandas as pd\n",
    "city_name = input(\"What is the City?\")\n",
    "\n",
    "#Import all of the temps\n",
    "df = pd.read_csv(city_name+'/Raw/projected_maxtemp_monthly_raw.csv')\n",
    "print(len(df.index))"
   ]
  },
  {
   "cell_type": "code",
   "execution_count": 9,
   "metadata": {},
   "outputs": [
    {
     "name": "stdout",
     "output_type": "stream",
     "text": [
      "                                data\n",
      "datetime                            \n",
      "2053-05-31 00:00:00+00:00  31.526553\n",
      "2053-06-30 00:00:00+00:00  31.224530\n",
      "2053-07-31 00:00:00+00:00  31.108907\n",
      "2053-08-31 00:00:00+00:00  31.043783\n",
      "2053-09-30 00:00:00+00:00  31.173798\n",
      "2053-10-31 00:00:00+00:00  31.807712\n",
      "2053-11-30 00:00:00+00:00  31.876967\n",
      "2053-12-31 00:00:00+00:00  30.765015\n",
      "2054-01-31 00:00:00+00:00  30.033520\n",
      "2054-02-28 00:00:00+00:00  30.129837\n",
      "2054-03-31 00:00:00+00:00  30.079546\n",
      "2054-04-30 00:00:00+00:00  31.438509\n",
      "2054-05-31 00:00:00+00:00  32.886789\n",
      "2054-06-30 00:00:00+00:00  32.749462\n",
      "2054-07-31 00:00:00+00:00  32.007377\n",
      "2054-08-31 00:00:00+00:00  31.821962\n",
      "2054-09-30 00:00:00+00:00  31.997967\n",
      "2054-10-31 00:00:00+00:00  31.998792\n",
      "2054-11-30 00:00:00+00:00  30.152755\n",
      "2054-12-31 00:00:00+00:00  29.593596\n"
     ]
    },
    {
     "name": "stderr",
     "output_type": "stream",
     "text": [
      "/var/folders/2m/s5dls335695361g_hk_1ckb80000gn/T/ipykernel_98842/1341868109.py:3: SettingWithCopyWarning: \n",
      "A value is trying to be set on a copy of a slice from a DataFrame.\n",
      "Try using .loc[row_indexer,col_indexer] = value instead\n",
      "\n",
      "See the caveats in the documentation: https://pandas.pydata.org/pandas-docs/stable/user_guide/indexing.html#returning-a-view-versus-a-copy\n",
      "  max_temp_df['datetime'] = pd.to_datetime(max_temp_df['datetime'])\n",
      "/var/folders/2m/s5dls335695361g_hk_1ckb80000gn/T/ipykernel_98842/1341868109.py:4: FutureWarning: 'M' is deprecated and will be removed in a future version, please use 'ME' instead.\n",
      "  max_temp_df = max_temp_df.groupby([pd.Grouper(key='datetime', freq='1M')]).max()\n"
     ]
    }
   ],
   "source": [
    "max_temp_df = df[['datetime','data']]\n",
    "\n",
    "max_temp_df['datetime'] = pd.to_datetime(max_temp_df['datetime'])\n",
    "max_temp_df = max_temp_df.groupby([pd.Grouper(key='datetime', freq='1M')]).max()\n",
    "# print(df.tail(20))\n",
    "print(max_temp_df.tail(20))\n",
    "\n"
   ]
  },
  {
   "cell_type": "code",
   "execution_count": 10,
   "metadata": {},
   "outputs": [],
   "source": [
    "max_temp_df.to_csv(city_name+'/Processed/projected_tempmax_monthly.csv')\n",
    "max_temp_df.to_json(city_name+'/Processed/projected_tempmax_monthly.json', orient='table')"
   ]
  },
  {
   "cell_type": "code",
   "execution_count": null,
   "metadata": {},
   "outputs": [],
   "source": []
  }
 ],
 "metadata": {
  "kernelspec": {
   "display_name": "Python 3",
   "language": "python",
   "name": "python3"
  },
  "language_info": {
   "codemirror_mode": {
    "name": "ipython",
    "version": 3
   },
   "file_extension": ".py",
   "mimetype": "text/x-python",
   "name": "python",
   "nbconvert_exporter": "python",
   "pygments_lexer": "ipython3",
   "version": "3.9.6"
  }
 },
 "nbformat": 4,
 "nbformat_minor": 2
}
