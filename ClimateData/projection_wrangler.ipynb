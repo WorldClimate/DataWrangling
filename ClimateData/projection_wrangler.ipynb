{
 "cells": [
  {
   "cell_type": "code",
   "execution_count": 4,
   "metadata": {},
   "outputs": [
    {
     "name": "stdout",
     "output_type": "stream",
     "text": [
      "309\n"
     ]
    }
   ],
   "source": [
    "import pandas as pd\n",
    "\n",
    "#TODO - Make this more like the historical one, where it can be parameterized based on what data point and frequency etc. \n",
    "# Right now it's dumb because the API can return whatever we need it to, we'll want to standardize on an api call\n",
    "#Import all of the temps\n",
    "df = pd.read_csv('Oxford/Raw/oxford_projected_maxtemp_monthly_raw.csv')\n",
    "print(len(df.index))"
   ]
  },
  {
   "cell_type": "code",
   "execution_count": 5,
   "metadata": {},
   "outputs": [
    {
     "name": "stdout",
     "output_type": "stream",
     "text": [
      "                                data\n",
      "datetime                            \n",
      "2048-02-29 00:00:00+00:00  24.207196\n",
      "2048-03-31 00:00:00+00:00  27.232427\n",
      "2048-04-30 00:00:00+00:00  26.241709\n",
      "2048-05-31 00:00:00+00:00  23.896759\n",
      "2048-06-30 00:00:00+00:00  23.891761\n",
      "2048-07-31 00:00:00+00:00  17.502177\n",
      "2048-08-31 00:00:00+00:00  14.441899\n",
      "2048-09-30 00:00:00+00:00  11.735024\n",
      "2048-10-31 00:00:00+00:00  11.767982\n",
      "2048-11-30 00:00:00+00:00  14.101978\n",
      "2048-12-31 00:00:00+00:00  18.659014\n",
      "2049-01-31 00:00:00+00:00  22.347440\n",
      "2049-02-28 00:00:00+00:00  22.136118\n",
      "2049-03-31 00:00:00+00:00  26.492418\n",
      "2049-04-30 00:00:00+00:00  27.232276\n",
      "2049-05-31 00:00:00+00:00  25.898616\n",
      "2049-06-30 00:00:00+00:00  19.757882\n",
      "2049-07-31 00:00:00+00:00  16.879339\n",
      "2049-08-31 00:00:00+00:00  15.898533\n",
      "2049-09-30 00:00:00+00:00   9.684215\n"
     ]
    },
    {
     "name": "stderr",
     "output_type": "stream",
     "text": [
      "/var/folders/2m/s5dls335695361g_hk_1ckb80000gn/T/ipykernel_6949/1341868109.py:3: SettingWithCopyWarning: \n",
      "A value is trying to be set on a copy of a slice from a DataFrame.\n",
      "Try using .loc[row_indexer,col_indexer] = value instead\n",
      "\n",
      "See the caveats in the documentation: https://pandas.pydata.org/pandas-docs/stable/user_guide/indexing.html#returning-a-view-versus-a-copy\n",
      "  max_temp_df['datetime'] = pd.to_datetime(max_temp_df['datetime'])\n",
      "/var/folders/2m/s5dls335695361g_hk_1ckb80000gn/T/ipykernel_6949/1341868109.py:4: FutureWarning: 'M' is deprecated and will be removed in a future version, please use 'ME' instead.\n",
      "  max_temp_df = max_temp_df.groupby([pd.Grouper(key='datetime', freq='1M')]).max()\n"
     ]
    }
   ],
   "source": [
    "max_temp_df = df[['datetime','data']]\n",
    "\n",
    "max_temp_df['datetime'] = pd.to_datetime(max_temp_df['datetime'])\n",
    "max_temp_df = max_temp_df.groupby([pd.Grouper(key='datetime', freq='1M')]).max()\n",
    "# print(df.tail(20))\n",
    "print(max_temp_df.tail(20))\n",
    "\n"
   ]
  },
  {
   "cell_type": "code",
   "execution_count": 6,
   "metadata": {},
   "outputs": [],
   "source": [
    "max_temp_df.to_csv('Oxford/Processed/oxford_projected_tempmax_monthly.csv')\n",
    "max_temp_df.to_json('Oxford/Processed/oxford_projected_tempmax_monthly.json', orient='table')"
   ]
  }
 ],
 "metadata": {
  "kernelspec": {
   "display_name": "Python 3",
   "language": "python",
   "name": "python3"
  },
  "language_info": {
   "codemirror_mode": {
    "name": "ipython",
    "version": 3
   },
   "file_extension": ".py",
   "mimetype": "text/x-python",
   "name": "python",
   "nbconvert_exporter": "python",
   "pygments_lexer": "ipython3",
   "version": "3.9.6"
  }
 },
 "nbformat": 4,
 "nbformat_minor": 2
}
