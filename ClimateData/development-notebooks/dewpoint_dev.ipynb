{
 "cells": [
  {
   "cell_type": "code",
   "execution_count": 20,
   "metadata": {},
   "outputs": [
    {
     "name": "stdout",
     "output_type": "stream",
     "text": [
      "16224\n"
     ]
    }
   ],
   "source": [
    "import pandas as pd\n",
    "\n",
    "city_name = input(\"What is the City?\")\n",
    "input_file = '../'+city_name+'/Raw/historical_daily_raw.csv'\n",
    "\n",
    "#Import raw file\n",
    "df = pd.read_csv(input_file)\n",
    "print(len(df.index))"
   ]
  },
  {
   "cell_type": "code",
   "execution_count": 21,
   "metadata": {},
   "outputs": [
    {
     "name": "stdout",
     "output_type": "stream",
     "text": [
      "    year      dew\n",
      "0   1980  73.9162\n",
      "1   1981  74.3499\n",
      "2   1982  72.9233\n",
      "3   1983  73.5202\n",
      "4   1984  73.3592\n",
      "5   1985  73.8961\n",
      "6   1986  73.8830\n",
      "7   1987  73.3808\n",
      "8   1988  73.7932\n",
      "9   1989  73.1417\n",
      "10  1990  73.4394\n",
      "11  1991  72.5254\n",
      "12  1992  73.5638\n",
      "13  1993  73.6416\n",
      "14  1994  72.4847\n",
      "15  1995  73.8312\n",
      "16  1996  73.7464\n",
      "17  1997  72.6077\n",
      "18  1998  75.2244\n",
      "19  1999  74.0049\n"
     ]
    },
    {
     "name": "stderr",
     "output_type": "stream",
     "text": [
      "/var/folders/2m/s5dls335695361g_hk_1ckb80000gn/T/ipykernel_85358/2565594055.py:4: SettingWithCopyWarning: \n",
      "A value is trying to be set on a copy of a slice from a DataFrame.\n",
      "Try using .loc[row_indexer,col_indexer] = value instead\n",
      "\n",
      "See the caveats in the documentation: https://pandas.pydata.org/pandas-docs/stable/user_guide/indexing.html#returning-a-view-versus-a-copy\n",
      "  dew_df['year'] = pd.to_datetime(dew_df['datetime']).dt.year\n"
     ]
    }
   ],
   "source": [
    "data_value = 'dew'\n",
    "frequency = 'monthly'\n",
    "dew_df = df[['datetime',data_value]]\n",
    "dew_df['year'] = pd.to_datetime(dew_df['datetime']).dt.year\n",
    "\n",
    "# Drop rows with 2024 data\n",
    "dew_df = dew_df[dew_df['year'] < 2024]\n",
    "\n",
    "aggregated_df = dew_df.groupby('year')['dew'].mean().round(4).reset_index()\n",
    "\n",
    "print(aggregated_df.head(20))"
   ]
  }
 ],
 "metadata": {
  "kernelspec": {
   "display_name": ".venv",
   "language": "python",
   "name": "python3"
  },
  "language_info": {
   "codemirror_mode": {
    "name": "ipython",
    "version": 3
   },
   "file_extension": ".py",
   "mimetype": "text/x-python",
   "name": "python",
   "nbconvert_exporter": "python",
   "pygments_lexer": "ipython3",
   "version": "3.9.6"
  }
 },
 "nbformat": 4,
 "nbformat_minor": 2
}
